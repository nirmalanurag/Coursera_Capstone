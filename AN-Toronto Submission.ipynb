{
 "cells": [
  {
   "cell_type": "code",
   "execution_count": 1,
   "metadata": {},
   "outputs": [],
   "source": [
    "import pandas as pd\n",
    "import numpy as np\n",
    "\n",
    "from sklearn.cluster import KMeans        #for clustering \n",
    "import folium                             #for real maps\n",
    "import json                               #handle json files\n",
    "from geopy.geocoders import Nominatim     #convert address to lat and long\n",
    "from pandas.io.json import json_normalize #covert json file to pandas dataframe\n",
    "import requests                           #library to handle requests"
   ]
  },
  {
   "cell_type": "markdown",
   "metadata": {},
   "source": [
    "<h4> PART 1 ASSIGNMENT - WIKIPEDIA DATAFRAME"
   ]
  },
  {
   "cell_type": "markdown",
   "metadata": {},
   "source": [
    "Note the Wikipedia link and read using pandas read_html function"
   ]
  },
  {
   "cell_type": "code",
   "execution_count": 2,
   "metadata": {},
   "outputs": [],
   "source": [
    "Link = \"https://en.wikipedia.org/wiki/List_of_postal_codes_of_Canada:_M\""
   ]
  },
  {
   "cell_type": "code",
   "execution_count": 3,
   "metadata": {},
   "outputs": [
    {
     "data": {
      "text/plain": [
       "[    Postcode           Borough          Neighbourhood\n",
       " 0        M1A      Not assigned           Not assigned\n",
       " 1        M2A      Not assigned           Not assigned\n",
       " 2        M3A        North York              Parkwoods\n",
       " 3        M4A        North York       Victoria Village\n",
       " 4        M5A  Downtown Toronto           Harbourfront\n",
       " ..       ...               ...                    ...\n",
       " 282      M8Z         Etobicoke              Mimico NW\n",
       " 283      M8Z         Etobicoke     The Queensway West\n",
       " 284      M8Z         Etobicoke  Royal York South West\n",
       " 285      M8Z         Etobicoke         South of Bloor\n",
       " 286      M9Z      Not assigned           Not assigned\n",
       " \n",
       " [287 rows x 3 columns],\n",
       "                                                   0   \\\n",
       " 0                                                NaN   \n",
       " 1  NL NS PE NB QC ON MB SK AB BC NU/NT YT A B C E...   \n",
       " 2                                                 NL   \n",
       " 3                                                  A   \n",
       " \n",
       "                                                   1   \\\n",
       " 0                              Canadian postal codes   \n",
       " 1  NL NS PE NB QC ON MB SK AB BC NU/NT YT A B C E...   \n",
       " 2                                                 NS   \n",
       " 3                                                  B   \n",
       " \n",
       "                                                   2    3    4    5    6    7   \\\n",
       " 0                                                NaN  NaN  NaN  NaN  NaN  NaN   \n",
       " 1  NL NS PE NB QC ON MB SK AB BC NU/NT YT A B C E...  NaN  NaN  NaN  NaN  NaN   \n",
       " 2                                                 PE   NB   QC   QC   QC   ON   \n",
       " 3                                                  C    E    G    H    J    K   \n",
       " \n",
       "     8    9    10   11   12   13   14   15     16   17  \n",
       " 0  NaN  NaN  NaN  NaN  NaN  NaN  NaN  NaN    NaN  NaN  \n",
       " 1  NaN  NaN  NaN  NaN  NaN  NaN  NaN  NaN    NaN  NaN  \n",
       " 2   ON   ON   ON   ON   MB   SK   AB   BC  NU/NT   YT  \n",
       " 3    L    M    N    P    R    S    T    V      X    Y  ,\n",
       "    0   1   2   3   4   5   6   7   8   9   10  11  12  13  14  15     16  17\n",
       " 0  NL  NS  PE  NB  QC  QC  QC  ON  ON  ON  ON  ON  MB  SK  AB  BC  NU/NT  YT\n",
       " 1   A   B   C   E   G   H   J   K   L   M   N   P   R   S   T   V      X   Y]"
      ]
     },
     "execution_count": 3,
     "metadata": {},
     "output_type": "execute_result"
    }
   ],
   "source": [
    "df = pd.read_html(Link)\n",
    "df"
   ]
  },
  {
   "cell_type": "markdown",
   "metadata": {},
   "source": [
    "Store the relevant data of 3 columns and 287 rows in new dataframe"
   ]
  },
  {
   "cell_type": "code",
   "execution_count": 4,
   "metadata": {},
   "outputs": [
    {
     "data": {
      "text/html": [
       "<div>\n",
       "<style scoped>\n",
       "    .dataframe tbody tr th:only-of-type {\n",
       "        vertical-align: middle;\n",
       "    }\n",
       "\n",
       "    .dataframe tbody tr th {\n",
       "        vertical-align: top;\n",
       "    }\n",
       "\n",
       "    .dataframe thead th {\n",
       "        text-align: right;\n",
       "    }\n",
       "</style>\n",
       "<table border=\"1\" class=\"dataframe\">\n",
       "  <thead>\n",
       "    <tr style=\"text-align: right;\">\n",
       "      <th></th>\n",
       "      <th>Postcode</th>\n",
       "      <th>Borough</th>\n",
       "      <th>Neighbourhood</th>\n",
       "    </tr>\n",
       "  </thead>\n",
       "  <tbody>\n",
       "    <tr>\n",
       "      <th>0</th>\n",
       "      <td>M1A</td>\n",
       "      <td>Not assigned</td>\n",
       "      <td>Not assigned</td>\n",
       "    </tr>\n",
       "    <tr>\n",
       "      <th>1</th>\n",
       "      <td>M2A</td>\n",
       "      <td>Not assigned</td>\n",
       "      <td>Not assigned</td>\n",
       "    </tr>\n",
       "    <tr>\n",
       "      <th>2</th>\n",
       "      <td>M3A</td>\n",
       "      <td>North York</td>\n",
       "      <td>Parkwoods</td>\n",
       "    </tr>\n",
       "    <tr>\n",
       "      <th>3</th>\n",
       "      <td>M4A</td>\n",
       "      <td>North York</td>\n",
       "      <td>Victoria Village</td>\n",
       "    </tr>\n",
       "    <tr>\n",
       "      <th>4</th>\n",
       "      <td>M5A</td>\n",
       "      <td>Downtown Toronto</td>\n",
       "      <td>Harbourfront</td>\n",
       "    </tr>\n",
       "  </tbody>\n",
       "</table>\n",
       "</div>"
      ],
      "text/plain": [
       "  Postcode           Borough     Neighbourhood\n",
       "0      M1A      Not assigned      Not assigned\n",
       "1      M2A      Not assigned      Not assigned\n",
       "2      M3A        North York         Parkwoods\n",
       "3      M4A        North York  Victoria Village\n",
       "4      M5A  Downtown Toronto      Harbourfront"
      ]
     },
     "execution_count": 4,
     "metadata": {},
     "output_type": "execute_result"
    }
   ],
   "source": [
    "df_new = df[0]\n",
    "df_new.head()"
   ]
  },
  {
   "cell_type": "code",
   "execution_count": 5,
   "metadata": {},
   "outputs": [
    {
     "data": {
      "text/plain": [
       "(287, 3)"
      ]
     },
     "execution_count": 5,
     "metadata": {},
     "output_type": "execute_result"
    }
   ],
   "source": [
    "df_new.shape"
   ]
  },
  {
   "cell_type": "code",
   "execution_count": 6,
   "metadata": {},
   "outputs": [
    {
     "data": {
      "text/plain": [
       "Not assigned        77\n",
       "Etobicoke           45\n",
       "North York          38\n",
       "Scarborough         37\n",
       "Downtown Toronto    37\n",
       "Central Toronto     17\n",
       "West Toronto        13\n",
       "York                 9\n",
       "East Toronto         7\n",
       "East York            6\n",
       "Mississauga          1\n",
       "Name: Borough, dtype: int64"
      ]
     },
     "execution_count": 6,
     "metadata": {},
     "output_type": "execute_result"
    }
   ],
   "source": [
    "df_new['Borough'].value_counts()"
   ]
  },
  {
   "cell_type": "markdown",
   "metadata": {},
   "source": [
    "Step 1 - ignore Borough which are \"Not Assigned\""
   ]
  },
  {
   "cell_type": "code",
   "execution_count": 10,
   "metadata": {},
   "outputs": [],
   "source": [
    "df_clean = df_new[df_new['Borough'] !='Not assigned']"
   ]
  },
  {
   "cell_type": "code",
   "execution_count": 11,
   "metadata": {},
   "outputs": [
    {
     "data": {
      "text/html": [
       "<div>\n",
       "<style scoped>\n",
       "    .dataframe tbody tr th:only-of-type {\n",
       "        vertical-align: middle;\n",
       "    }\n",
       "\n",
       "    .dataframe tbody tr th {\n",
       "        vertical-align: top;\n",
       "    }\n",
       "\n",
       "    .dataframe thead th {\n",
       "        text-align: right;\n",
       "    }\n",
       "</style>\n",
       "<table border=\"1\" class=\"dataframe\">\n",
       "  <thead>\n",
       "    <tr style=\"text-align: right;\">\n",
       "      <th></th>\n",
       "      <th>Postcode</th>\n",
       "      <th>Borough</th>\n",
       "      <th>Neighbourhood</th>\n",
       "    </tr>\n",
       "  </thead>\n",
       "  <tbody>\n",
       "    <tr>\n",
       "      <th>2</th>\n",
       "      <td>M3A</td>\n",
       "      <td>North York</td>\n",
       "      <td>Parkwoods</td>\n",
       "    </tr>\n",
       "    <tr>\n",
       "      <th>3</th>\n",
       "      <td>M4A</td>\n",
       "      <td>North York</td>\n",
       "      <td>Victoria Village</td>\n",
       "    </tr>\n",
       "    <tr>\n",
       "      <th>4</th>\n",
       "      <td>M5A</td>\n",
       "      <td>Downtown Toronto</td>\n",
       "      <td>Harbourfront</td>\n",
       "    </tr>\n",
       "    <tr>\n",
       "      <th>5</th>\n",
       "      <td>M6A</td>\n",
       "      <td>North York</td>\n",
       "      <td>Lawrence Heights</td>\n",
       "    </tr>\n",
       "    <tr>\n",
       "      <th>6</th>\n",
       "      <td>M6A</td>\n",
       "      <td>North York</td>\n",
       "      <td>Lawrence Manor</td>\n",
       "    </tr>\n",
       "    <tr>\n",
       "      <th>...</th>\n",
       "      <td>...</td>\n",
       "      <td>...</td>\n",
       "      <td>...</td>\n",
       "    </tr>\n",
       "    <tr>\n",
       "      <th>281</th>\n",
       "      <td>M8Z</td>\n",
       "      <td>Etobicoke</td>\n",
       "      <td>Kingsway Park South West</td>\n",
       "    </tr>\n",
       "    <tr>\n",
       "      <th>282</th>\n",
       "      <td>M8Z</td>\n",
       "      <td>Etobicoke</td>\n",
       "      <td>Mimico NW</td>\n",
       "    </tr>\n",
       "    <tr>\n",
       "      <th>283</th>\n",
       "      <td>M8Z</td>\n",
       "      <td>Etobicoke</td>\n",
       "      <td>The Queensway West</td>\n",
       "    </tr>\n",
       "    <tr>\n",
       "      <th>284</th>\n",
       "      <td>M8Z</td>\n",
       "      <td>Etobicoke</td>\n",
       "      <td>Royal York South West</td>\n",
       "    </tr>\n",
       "    <tr>\n",
       "      <th>285</th>\n",
       "      <td>M8Z</td>\n",
       "      <td>Etobicoke</td>\n",
       "      <td>South of Bloor</td>\n",
       "    </tr>\n",
       "  </tbody>\n",
       "</table>\n",
       "<p>210 rows × 3 columns</p>\n",
       "</div>"
      ],
      "text/plain": [
       "    Postcode           Borough             Neighbourhood\n",
       "2        M3A        North York                 Parkwoods\n",
       "3        M4A        North York          Victoria Village\n",
       "4        M5A  Downtown Toronto              Harbourfront\n",
       "5        M6A        North York          Lawrence Heights\n",
       "6        M6A        North York            Lawrence Manor\n",
       "..       ...               ...                       ...\n",
       "281      M8Z         Etobicoke  Kingsway Park South West\n",
       "282      M8Z         Etobicoke                 Mimico NW\n",
       "283      M8Z         Etobicoke        The Queensway West\n",
       "284      M8Z         Etobicoke     Royal York South West\n",
       "285      M8Z         Etobicoke            South of Bloor\n",
       "\n",
       "[210 rows x 3 columns]"
      ]
     },
     "execution_count": 11,
     "metadata": {},
     "output_type": "execute_result"
    }
   ],
   "source": [
    "df_clean"
   ]
  },
  {
   "cell_type": "markdown",
   "metadata": {},
   "source": [
    "Step 2 - Find the neighbourhood which have Not assigned to copy the borough name to neighbourhood\n",
    "(Ans: There are none)"
   ]
  },
  {
   "cell_type": "code",
   "execution_count": 12,
   "metadata": {},
   "outputs": [
    {
     "data": {
      "text/html": [
       "<div>\n",
       "<style scoped>\n",
       "    .dataframe tbody tr th:only-of-type {\n",
       "        vertical-align: middle;\n",
       "    }\n",
       "\n",
       "    .dataframe tbody tr th {\n",
       "        vertical-align: top;\n",
       "    }\n",
       "\n",
       "    .dataframe thead th {\n",
       "        text-align: right;\n",
       "    }\n",
       "</style>\n",
       "<table border=\"1\" class=\"dataframe\">\n",
       "  <thead>\n",
       "    <tr style=\"text-align: right;\">\n",
       "      <th></th>\n",
       "      <th>Postcode</th>\n",
       "      <th>Borough</th>\n",
       "      <th>Neighbourhood</th>\n",
       "    </tr>\n",
       "  </thead>\n",
       "  <tbody>\n",
       "  </tbody>\n",
       "</table>\n",
       "</div>"
      ],
      "text/plain": [
       "Empty DataFrame\n",
       "Columns: [Postcode, Borough, Neighbourhood]\n",
       "Index: []"
      ]
     },
     "execution_count": 12,
     "metadata": {},
     "output_type": "execute_result"
    }
   ],
   "source": [
    "df_clean.query('Neighbourhood==\"Not assigned\"')"
   ]
  },
  {
   "cell_type": "markdown",
   "metadata": {},
   "source": [
    "Step 3 - Find the Postal Code which are repeated to merge the rows. Use Groupby function to aggregate the Neighborhood"
   ]
  },
  {
   "cell_type": "code",
   "execution_count": 13,
   "metadata": {},
   "outputs": [
    {
     "data": {
      "text/plain": [
       "M9V    8\n",
       "M8Y    8\n",
       "M5V    7\n",
       "M8Z    5\n",
       "M9B    5\n",
       "      ..\n",
       "M6E    1\n",
       "M4H    1\n",
       "M3L    1\n",
       "M1S    1\n",
       "M9L    1\n",
       "Name: Postcode, Length: 103, dtype: int64"
      ]
     },
     "execution_count": 13,
     "metadata": {},
     "output_type": "execute_result"
    }
   ],
   "source": [
    "count = df_clean['Postcode'].value_counts()\n",
    "count"
   ]
  },
  {
   "cell_type": "code",
   "execution_count": 33,
   "metadata": {},
   "outputs": [
    {
     "data": {
      "text/plain": [
       "Etobicoke           45\n",
       "North York          38\n",
       "Scarborough         37\n",
       "Downtown Toronto    37\n",
       "Central Toronto     17\n",
       "West Toronto        13\n",
       "York                 9\n",
       "East Toronto         7\n",
       "East York            6\n",
       "Mississauga          1\n",
       "Name: Borough, dtype: int64"
      ]
     },
     "execution_count": 33,
     "metadata": {},
     "output_type": "execute_result"
    }
   ],
   "source": [
    "df_clean['Borough'].value_counts()"
   ]
  },
  {
   "cell_type": "code",
   "execution_count": 14,
   "metadata": {},
   "outputs": [],
   "source": [
    "#Aggregate the Neighborhood column using GroupBy function \n",
    "df_toro = df_clean.groupby(['Postcode','Borough']).agg( ', '.join)"
   ]
  },
  {
   "cell_type": "code",
   "execution_count": 15,
   "metadata": {},
   "outputs": [],
   "source": [
    "df_toro = df_toro.reset_index()"
   ]
  },
  {
   "cell_type": "code",
   "execution_count": 16,
   "metadata": {},
   "outputs": [
    {
     "data": {
      "text/html": [
       "<div>\n",
       "<style scoped>\n",
       "    .dataframe tbody tr th:only-of-type {\n",
       "        vertical-align: middle;\n",
       "    }\n",
       "\n",
       "    .dataframe tbody tr th {\n",
       "        vertical-align: top;\n",
       "    }\n",
       "\n",
       "    .dataframe thead th {\n",
       "        text-align: right;\n",
       "    }\n",
       "</style>\n",
       "<table border=\"1\" class=\"dataframe\">\n",
       "  <thead>\n",
       "    <tr style=\"text-align: right;\">\n",
       "      <th></th>\n",
       "      <th>Postcode</th>\n",
       "      <th>Borough</th>\n",
       "      <th>Neighbourhood</th>\n",
       "    </tr>\n",
       "  </thead>\n",
       "  <tbody>\n",
       "    <tr>\n",
       "      <th>0</th>\n",
       "      <td>M1B</td>\n",
       "      <td>Scarborough</td>\n",
       "      <td>Rouge, Malvern</td>\n",
       "    </tr>\n",
       "    <tr>\n",
       "      <th>1</th>\n",
       "      <td>M1C</td>\n",
       "      <td>Scarborough</td>\n",
       "      <td>Highland Creek, Rouge Hill, Port Union</td>\n",
       "    </tr>\n",
       "    <tr>\n",
       "      <th>2</th>\n",
       "      <td>M1E</td>\n",
       "      <td>Scarborough</td>\n",
       "      <td>Guildwood, Morningside, West Hill</td>\n",
       "    </tr>\n",
       "    <tr>\n",
       "      <th>3</th>\n",
       "      <td>M1G</td>\n",
       "      <td>Scarborough</td>\n",
       "      <td>Woburn</td>\n",
       "    </tr>\n",
       "    <tr>\n",
       "      <th>4</th>\n",
       "      <td>M1H</td>\n",
       "      <td>Scarborough</td>\n",
       "      <td>Cedarbrae</td>\n",
       "    </tr>\n",
       "  </tbody>\n",
       "</table>\n",
       "</div>"
      ],
      "text/plain": [
       "  Postcode      Borough                           Neighbourhood\n",
       "0      M1B  Scarborough                          Rouge, Malvern\n",
       "1      M1C  Scarborough  Highland Creek, Rouge Hill, Port Union\n",
       "2      M1E  Scarborough       Guildwood, Morningside, West Hill\n",
       "3      M1G  Scarborough                                  Woburn\n",
       "4      M1H  Scarborough                               Cedarbrae"
      ]
     },
     "execution_count": 16,
     "metadata": {},
     "output_type": "execute_result"
    }
   ],
   "source": [
    "df_toro.head()"
   ]
  },
  {
   "cell_type": "code",
   "execution_count": 17,
   "metadata": {},
   "outputs": [
    {
     "data": {
      "text/plain": [
       "(103, 3)"
      ]
     },
     "execution_count": 17,
     "metadata": {},
     "output_type": "execute_result"
    }
   ],
   "source": [
    "df_toro.shape"
   ]
  },
  {
   "cell_type": "markdown",
   "metadata": {},
   "source": [
    "<h3> PART 2 ASSIGNMENT - TORONTO DATAFRAME"
   ]
  },
  {
   "cell_type": "markdown",
   "metadata": {},
   "source": [
    "Step 4 - Get the Lat and Long for each PostCode using GEOPY"
   ]
  },
  {
   "cell_type": "markdown",
   "metadata": {},
   "source": [
    "Step 5 - Previous step didn't worked as planned - hence using the CSV file"
   ]
  },
  {
   "cell_type": "code",
   "execution_count": 22,
   "metadata": {},
   "outputs": [
    {
     "name": "stdout",
     "output_type": "stream",
     "text": [
      "  Postcode   Latitude  Longitude\n",
      "0      M1B  43.806686 -79.194353\n",
      "1      M1C  43.784535 -79.160497\n",
      "2      M1E  43.763573 -79.188711\n",
      "3      M1G  43.770992 -79.216917\n",
      "4      M1H  43.773136 -79.239476 (103, 3)\n"
     ]
    }
   ],
   "source": [
    "toro_csv = pd.read_csv('Geospatial_Coordinates.csv')\n",
    "toro_csv = toro_csv.rename(columns ={'Postal Code':'Postcode'})\n",
    "print(toro_csv.head(), toro_csv.shape)"
   ]
  },
  {
   "cell_type": "code",
   "execution_count": 23,
   "metadata": {},
   "outputs": [],
   "source": [
    "#Combine the 2 data sets\n",
    "df_toronto = pd.merge(df_toro,toro_csv,how='outer', on = 'Postcode')"
   ]
  },
  {
   "cell_type": "code",
   "execution_count": 28,
   "metadata": {},
   "outputs": [
    {
     "data": {
      "text/html": [
       "<div>\n",
       "<style scoped>\n",
       "    .dataframe tbody tr th:only-of-type {\n",
       "        vertical-align: middle;\n",
       "    }\n",
       "\n",
       "    .dataframe tbody tr th {\n",
       "        vertical-align: top;\n",
       "    }\n",
       "\n",
       "    .dataframe thead th {\n",
       "        text-align: right;\n",
       "    }\n",
       "</style>\n",
       "<table border=\"1\" class=\"dataframe\">\n",
       "  <thead>\n",
       "    <tr style=\"text-align: right;\">\n",
       "      <th></th>\n",
       "      <th>Postcode</th>\n",
       "      <th>Borough</th>\n",
       "      <th>Neighbourhood</th>\n",
       "      <th>Latitude</th>\n",
       "      <th>Longitude</th>\n",
       "    </tr>\n",
       "  </thead>\n",
       "  <tbody>\n",
       "    <tr>\n",
       "      <th>0</th>\n",
       "      <td>M1B</td>\n",
       "      <td>Scarborough</td>\n",
       "      <td>Rouge, Malvern</td>\n",
       "      <td>43.806686</td>\n",
       "      <td>-79.194353</td>\n",
       "    </tr>\n",
       "    <tr>\n",
       "      <th>1</th>\n",
       "      <td>M1C</td>\n",
       "      <td>Scarborough</td>\n",
       "      <td>Highland Creek, Rouge Hill, Port Union</td>\n",
       "      <td>43.784535</td>\n",
       "      <td>-79.160497</td>\n",
       "    </tr>\n",
       "    <tr>\n",
       "      <th>2</th>\n",
       "      <td>M1E</td>\n",
       "      <td>Scarborough</td>\n",
       "      <td>Guildwood, Morningside, West Hill</td>\n",
       "      <td>43.763573</td>\n",
       "      <td>-79.188711</td>\n",
       "    </tr>\n",
       "    <tr>\n",
       "      <th>3</th>\n",
       "      <td>M1G</td>\n",
       "      <td>Scarborough</td>\n",
       "      <td>Woburn</td>\n",
       "      <td>43.770992</td>\n",
       "      <td>-79.216917</td>\n",
       "    </tr>\n",
       "    <tr>\n",
       "      <th>4</th>\n",
       "      <td>M1H</td>\n",
       "      <td>Scarborough</td>\n",
       "      <td>Cedarbrae</td>\n",
       "      <td>43.773136</td>\n",
       "      <td>-79.239476</td>\n",
       "    </tr>\n",
       "    <tr>\n",
       "      <th>5</th>\n",
       "      <td>M1J</td>\n",
       "      <td>Scarborough</td>\n",
       "      <td>Scarborough Village</td>\n",
       "      <td>43.744734</td>\n",
       "      <td>-79.239476</td>\n",
       "    </tr>\n",
       "    <tr>\n",
       "      <th>6</th>\n",
       "      <td>M1K</td>\n",
       "      <td>Scarborough</td>\n",
       "      <td>East Birchmount Park, Ionview, Kennedy Park</td>\n",
       "      <td>43.727929</td>\n",
       "      <td>-79.262029</td>\n",
       "    </tr>\n",
       "    <tr>\n",
       "      <th>7</th>\n",
       "      <td>M1L</td>\n",
       "      <td>Scarborough</td>\n",
       "      <td>Clairlea, Golden Mile, Oakridge</td>\n",
       "      <td>43.711112</td>\n",
       "      <td>-79.284577</td>\n",
       "    </tr>\n",
       "    <tr>\n",
       "      <th>8</th>\n",
       "      <td>M1M</td>\n",
       "      <td>Scarborough</td>\n",
       "      <td>Cliffcrest, Cliffside, Scarborough Village West</td>\n",
       "      <td>43.716316</td>\n",
       "      <td>-79.239476</td>\n",
       "    </tr>\n",
       "    <tr>\n",
       "      <th>9</th>\n",
       "      <td>M1N</td>\n",
       "      <td>Scarborough</td>\n",
       "      <td>Birch Cliff, Cliffside West</td>\n",
       "      <td>43.692657</td>\n",
       "      <td>-79.264848</td>\n",
       "    </tr>\n",
       "    <tr>\n",
       "      <th>10</th>\n",
       "      <td>M1P</td>\n",
       "      <td>Scarborough</td>\n",
       "      <td>Dorset Park, Scarborough Town Centre, Wexford ...</td>\n",
       "      <td>43.757410</td>\n",
       "      <td>-79.273304</td>\n",
       "    </tr>\n",
       "    <tr>\n",
       "      <th>11</th>\n",
       "      <td>M1R</td>\n",
       "      <td>Scarborough</td>\n",
       "      <td>Maryvale, Wexford</td>\n",
       "      <td>43.750072</td>\n",
       "      <td>-79.295849</td>\n",
       "    </tr>\n",
       "  </tbody>\n",
       "</table>\n",
       "</div>"
      ],
      "text/plain": [
       "   Postcode      Borough                                      Neighbourhood  \\\n",
       "0       M1B  Scarborough                                     Rouge, Malvern   \n",
       "1       M1C  Scarborough             Highland Creek, Rouge Hill, Port Union   \n",
       "2       M1E  Scarborough                  Guildwood, Morningside, West Hill   \n",
       "3       M1G  Scarborough                                             Woburn   \n",
       "4       M1H  Scarborough                                          Cedarbrae   \n",
       "5       M1J  Scarborough                                Scarborough Village   \n",
       "6       M1K  Scarborough        East Birchmount Park, Ionview, Kennedy Park   \n",
       "7       M1L  Scarborough                    Clairlea, Golden Mile, Oakridge   \n",
       "8       M1M  Scarborough    Cliffcrest, Cliffside, Scarborough Village West   \n",
       "9       M1N  Scarborough                        Birch Cliff, Cliffside West   \n",
       "10      M1P  Scarborough  Dorset Park, Scarborough Town Centre, Wexford ...   \n",
       "11      M1R  Scarborough                                  Maryvale, Wexford   \n",
       "\n",
       "     Latitude  Longitude  \n",
       "0   43.806686 -79.194353  \n",
       "1   43.784535 -79.160497  \n",
       "2   43.763573 -79.188711  \n",
       "3   43.770992 -79.216917  \n",
       "4   43.773136 -79.239476  \n",
       "5   43.744734 -79.239476  \n",
       "6   43.727929 -79.262029  \n",
       "7   43.711112 -79.284577  \n",
       "8   43.716316 -79.239476  \n",
       "9   43.692657 -79.264848  \n",
       "10  43.757410 -79.273304  \n",
       "11  43.750072 -79.295849  "
      ]
     },
     "execution_count": 28,
     "metadata": {},
     "output_type": "execute_result"
    }
   ],
   "source": [
    "df_toronto.head(12)"
   ]
  },
  {
   "cell_type": "code",
   "execution_count": 26,
   "metadata": {},
   "outputs": [
    {
     "data": {
      "text/plain": [
       "(103, 5)"
      ]
     },
     "execution_count": 26,
     "metadata": {},
     "output_type": "execute_result"
    }
   ],
   "source": [
    "df_toronto.shape"
   ]
  },
  {
   "cell_type": "markdown",
   "metadata": {},
   "source": [
    "<h3> PART 3 ASSIGNMENT - UNDERSTAND TORONTO"
   ]
  },
  {
   "cell_type": "markdown",
   "metadata": {},
   "source": [
    "Use Geopy library to get lat and long of Toronto"
   ]
  },
  {
   "cell_type": "code",
   "execution_count": 29,
   "metadata": {},
   "outputs": [
    {
     "name": "stdout",
     "output_type": "stream",
     "text": [
      "The geograpical coordinate of Toronto City are 43.653963, -79.387207.\n"
     ]
    }
   ],
   "source": [
    "address = 'Toronto, Ontario, Canada'\n",
    "\n",
    "geolocator = Nominatim(user_agent=\"ny_explorer\")\n",
    "location = geolocator.geocode(address)\n",
    "latitude = location.latitude\n",
    "longitude = location.longitude\n",
    "print('The geograpical coordinate of Toronto City are {}, {}.'.format(latitude, longitude))"
   ]
  },
  {
   "cell_type": "markdown",
   "metadata": {},
   "source": [
    "Create a map of TORONTO with neighborhoods superimposed on top"
   ]
  },
  {
   "cell_type": "code",
   "execution_count": 31,
   "metadata": {},
   "outputs": [
    {
     "data": {
      "text/html": [
       "<div style=\"width:100%;\"><div style=\"position:relative;width:100%;height:0;padding-bottom:60%;\"><iframe src=\"about:blank\" style=\"position:absolute;width:100%;height:100%;left:0;top:0;border:none !important;\" data-html=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 onload=\"this.contentDocument.open();this.contentDocument.write(atob(this.getAttribute('data-html')));this.contentDocument.close();\" allowfullscreen webkitallowfullscreen mozallowfullscreen></iframe></div></div>"
      ],
      "text/plain": [
       "<folium.folium.Map at 0x1ffbc68fac8>"
      ]
     },
     "execution_count": 31,
     "metadata": {},
     "output_type": "execute_result"
    }
   ],
   "source": [
    "# create map of TORONTO using latitude and longitude values\n",
    "map_toronto = folium.Map(location=[latitude, longitude], zoom_start=10)\n",
    "\n",
    "# add markers to map\n",
    "for lat, lng, borough, neighborhood in zip(df_toronto['Latitude'], df_toronto['Longitude'], df_toronto['Borough'], df_toronto['Neighbourhood']):\n",
    "    label = '{}, {}'.format(neighborhood, borough)\n",
    "    label = folium.Popup(label, parse_html=True)\n",
    "    folium.CircleMarker(\n",
    "        [lat, lng],\n",
    "        radius=5,\n",
    "        popup=label,\n",
    "        color='blue',\n",
    "        fill=True,\n",
    "        fill_color='#3186cc',\n",
    "        fill_opacity=0.7,\n",
    "        parse_html=False).add_to(map_toronto)  \n",
    "    \n",
    "map_toronto"
   ]
  },
  {
   "cell_type": "markdown",
   "metadata": {},
   "source": [
    "Now Lets create a map with Borough = Downtown Toronto"
   ]
  },
  {
   "cell_type": "code",
   "execution_count": 34,
   "metadata": {},
   "outputs": [
    {
     "data": {
      "text/html": [
       "<div>\n",
       "<style scoped>\n",
       "    .dataframe tbody tr th:only-of-type {\n",
       "        vertical-align: middle;\n",
       "    }\n",
       "\n",
       "    .dataframe tbody tr th {\n",
       "        vertical-align: top;\n",
       "    }\n",
       "\n",
       "    .dataframe thead th {\n",
       "        text-align: right;\n",
       "    }\n",
       "</style>\n",
       "<table border=\"1\" class=\"dataframe\">\n",
       "  <thead>\n",
       "    <tr style=\"text-align: right;\">\n",
       "      <th></th>\n",
       "      <th>Postcode</th>\n",
       "      <th>Borough</th>\n",
       "      <th>Neighbourhood</th>\n",
       "      <th>Latitude</th>\n",
       "      <th>Longitude</th>\n",
       "    </tr>\n",
       "  </thead>\n",
       "  <tbody>\n",
       "    <tr>\n",
       "      <th>0</th>\n",
       "      <td>M4W</td>\n",
       "      <td>Downtown Toronto</td>\n",
       "      <td>Rosedale</td>\n",
       "      <td>43.679563</td>\n",
       "      <td>-79.377529</td>\n",
       "    </tr>\n",
       "    <tr>\n",
       "      <th>1</th>\n",
       "      <td>M4X</td>\n",
       "      <td>Downtown Toronto</td>\n",
       "      <td>Cabbagetown, St. James Town</td>\n",
       "      <td>43.667967</td>\n",
       "      <td>-79.367675</td>\n",
       "    </tr>\n",
       "    <tr>\n",
       "      <th>2</th>\n",
       "      <td>M4Y</td>\n",
       "      <td>Downtown Toronto</td>\n",
       "      <td>Church and Wellesley</td>\n",
       "      <td>43.665860</td>\n",
       "      <td>-79.383160</td>\n",
       "    </tr>\n",
       "    <tr>\n",
       "      <th>3</th>\n",
       "      <td>M5A</td>\n",
       "      <td>Downtown Toronto</td>\n",
       "      <td>Harbourfront</td>\n",
       "      <td>43.654260</td>\n",
       "      <td>-79.360636</td>\n",
       "    </tr>\n",
       "    <tr>\n",
       "      <th>4</th>\n",
       "      <td>M5B</td>\n",
       "      <td>Downtown Toronto</td>\n",
       "      <td>Ryerson, Garden District</td>\n",
       "      <td>43.657162</td>\n",
       "      <td>-79.378937</td>\n",
       "    </tr>\n",
       "  </tbody>\n",
       "</table>\n",
       "</div>"
      ],
      "text/plain": [
       "  Postcode           Borough                Neighbourhood   Latitude  \\\n",
       "0      M4W  Downtown Toronto                     Rosedale  43.679563   \n",
       "1      M4X  Downtown Toronto  Cabbagetown, St. James Town  43.667967   \n",
       "2      M4Y  Downtown Toronto         Church and Wellesley  43.665860   \n",
       "3      M5A  Downtown Toronto                 Harbourfront  43.654260   \n",
       "4      M5B  Downtown Toronto     Ryerson, Garden District  43.657162   \n",
       "\n",
       "   Longitude  \n",
       "0 -79.377529  \n",
       "1 -79.367675  \n",
       "2 -79.383160  \n",
       "3 -79.360636  \n",
       "4 -79.378937  "
      ]
     },
     "execution_count": 34,
     "metadata": {},
     "output_type": "execute_result"
    }
   ],
   "source": [
    "df_downtoronto = df_toronto[df_toronto['Borough'] == 'Downtown Toronto'].reset_index(drop=True)\n",
    "df_downtoronto.head()"
   ]
  },
  {
   "cell_type": "code",
   "execution_count": 41,
   "metadata": {},
   "outputs": [
    {
     "data": {
      "text/html": [
       "<div style=\"width:100%;\"><div style=\"position:relative;width:100%;height:0;padding-bottom:60%;\"><iframe src=\"about:blank\" style=\"position:absolute;width:100%;height:100%;left:0;top:0;border:none !important;\" data-html=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 onload=\"this.contentDocument.open();this.contentDocument.write(atob(this.getAttribute('data-html')));this.contentDocument.close();\" allowfullscreen webkitallowfullscreen mozallowfullscreen></iframe></div></div>"
      ],
      "text/plain": [
       "<folium.folium.Map at 0x1ffbc7b9388>"
      ]
     },
     "execution_count": 41,
     "metadata": {},
     "output_type": "execute_result"
    }
   ],
   "source": [
    "# create map of DOWNTOWN TORONTO using latitude and longitude values\n",
    "map_downtoronto = folium.Map(location=[latitude, longitude], zoom_start=13)\n",
    "\n",
    "# add markers to map\n",
    "for lat, lng, borough, neighborhood in zip(df_downtoronto['Latitude'], df_downtoronto['Longitude'], df_downtoronto['Borough'], df_downtoronto['Neighbourhood']):\n",
    "    label = '{}, {}'.format(neighborhood, borough)\n",
    "    label = folium.Popup(label, parse_html=True)\n",
    "    folium.CircleMarker(\n",
    "        [lat, lng],\n",
    "        radius=10,\n",
    "        popup=label,\n",
    "        color='red',\n",
    "        fill=True,\n",
    "        fill_color='#cc3146',\n",
    "        fill_opacity=0.7,\n",
    "        parse_html=False).add_to(map_downtoronto)  \n",
    "    \n",
    "map_downtoronto"
   ]
  },
  {
   "cell_type": "code",
   "execution_count": null,
   "metadata": {},
   "outputs": [],
   "source": []
  }
 ],
 "metadata": {
  "kernelspec": {
   "display_name": "Python 3",
   "language": "python",
   "name": "python3"
  },
  "language_info": {
   "codemirror_mode": {
    "name": "ipython",
    "version": 3
   },
   "file_extension": ".py",
   "mimetype": "text/x-python",
   "name": "python",
   "nbconvert_exporter": "python",
   "pygments_lexer": "ipython3",
   "version": "3.7.6"
  }
 },
 "nbformat": 4,
 "nbformat_minor": 4
}
